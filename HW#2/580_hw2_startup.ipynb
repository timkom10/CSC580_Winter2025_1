{
 "cells": [
  {
   "cell_type": "markdown",
   "id": "20edd000",
   "metadata": {
    "id": "20edd000"
   },
   "source": [
    "# TIM KOMPERDA\n",
    "# CSC 580 Artificial Intelligence II, Winter 2025\n",
    "# HW\\#2 Cliffwalk\n"
   ]
  },
  {
   "cell_type": "markdown",
   "id": "K1HJ3taMYskB",
   "metadata": {
    "id": "K1HJ3taMYskB"
   },
   "source": [
    "### 1. Install gymnasium and create a Cliff Walk environment"
   ]
  },
  {
   "cell_type": "code",
   "execution_count": 2,
   "id": "1691a6ec",
   "metadata": {
    "colab": {
     "base_uri": "https://localhost:8080/"
    },
    "id": "1691a6ec",
    "outputId": "090c1024-8d95-4d3c-e161-de76e2372cf9"
   },
   "outputs": [
    {
     "name": "stdout",
     "output_type": "stream",
     "text": [
      "Requirement already satisfied: gymnasium[toy-text] in c:\\users\\tim\\.conda\\envs\\csc580\\lib\\site-packages (1.0.0)\n",
      "Requirement already satisfied: numpy>=1.21.0 in c:\\users\\tim\\.conda\\envs\\csc580\\lib\\site-packages (from gymnasium[toy-text]) (1.26.4)\n",
      "Requirement already satisfied: cloudpickle>=1.2.0 in c:\\users\\tim\\.conda\\envs\\csc580\\lib\\site-packages (from gymnasium[toy-text]) (3.1.1)\n",
      "Requirement already satisfied: typing-extensions>=4.3.0 in c:\\users\\tim\\.conda\\envs\\csc580\\lib\\site-packages (from gymnasium[toy-text]) (4.12.2)\n",
      "Requirement already satisfied: farama-notifications>=0.0.1 in c:\\users\\tim\\.conda\\envs\\csc580\\lib\\site-packages (from gymnasium[toy-text]) (0.0.4)\n",
      "Requirement already satisfied: pygame>=2.1.3 in c:\\users\\tim\\.conda\\envs\\csc580\\lib\\site-packages (from gymnasium[toy-text]) (2.1.3)\n"
     ]
    }
   ],
   "source": [
    "# Install gymnasium (in particular the toy-text subset)\n",
    "!pip install gymnasium[toy-text]"
   ]
  },
  {
   "cell_type": "code",
   "execution_count": 3,
   "id": "195ba04d",
   "metadata": {
    "colab": {
     "base_uri": "https://localhost:8080/",
     "height": 280
    },
    "id": "195ba04d",
    "outputId": "60308985-bc87-4eea-8e19-88272dc03271"
   },
   "outputs": [
    {
     "data": {
      "text/plain": [
       "array([[[ 91, 150,  97],\n",
       "        [ 91, 150,  97],\n",
       "        [ 91, 150,  97],\n",
       "        ...,\n",
       "        [ 86, 170,  69],\n",
       "        [ 86, 170,  69],\n",
       "        [ 86, 170,  69]],\n",
       "\n",
       "       [[ 91, 150,  97],\n",
       "        [ 91, 150,  97],\n",
       "        [ 91, 150,  97],\n",
       "        ...,\n",
       "        [ 86, 170,  69],\n",
       "        [ 86, 170,  69],\n",
       "        [ 86, 170,  69]],\n",
       "\n",
       "       [[ 91, 150,  97],\n",
       "        [ 91, 150,  97],\n",
       "        [ 98, 166, 105],\n",
       "        ...,\n",
       "        [105, 182,  74],\n",
       "        [105, 182,  74],\n",
       "        [ 86, 170,  69]],\n",
       "\n",
       "       ...,\n",
       "\n",
       "       [[ 86, 170,  69],\n",
       "        [ 86, 170,  69],\n",
       "        [ 93, 188,  74],\n",
       "        ...,\n",
       "        [ 91, 150,  97],\n",
       "        [ 91, 150,  97],\n",
       "        [ 91, 150,  97]],\n",
       "\n",
       "       [[ 86, 170,  69],\n",
       "        [ 86, 170,  69],\n",
       "        [ 93, 188,  74],\n",
       "        ...,\n",
       "        [ 91, 150,  97],\n",
       "        [ 91, 150,  97],\n",
       "        [ 91, 150,  97]],\n",
       "\n",
       "       [[ 86, 170,  69],\n",
       "        [ 86, 170,  69],\n",
       "        [ 86, 170,  69],\n",
       "        ...,\n",
       "        [ 91, 150,  97],\n",
       "        [ 91, 150,  97],\n",
       "        [ 91, 150,  97]]], dtype=uint8)"
      ]
     },
     "execution_count": 3,
     "metadata": {},
     "output_type": "execute_result"
    }
   ],
   "source": [
    "import gymnasium as gym\n",
    "import numpy as np\n",
    "\n",
    "# Create a Cliff Walk environment using Gymnasium\n",
    "env = gym.make(\"CliffWalking-v0\", is_slippery=True, render_mode=\"rgb_array\")#'ansi')#\n",
    "\n",
    "# Reset the environment and display it\n",
    "env.reset()\n",
    "\n",
    "#print (env.render())  # textual output if mode == 'ansi' or 'human'\n",
    "env.render() # gui/rgb output"
   ]
  },
  {
   "cell_type": "markdown",
   "id": "e9FEBDeuxicz",
   "metadata": {
    "id": "e9FEBDeuxicz"
   },
   "source": [
    "### 2. Inspect environment, transition probabilities and rewards"
   ]
  },
  {
   "cell_type": "code",
   "execution_count": 4,
   "id": "40d9fc3b",
   "metadata": {
    "colab": {
     "base_uri": "https://localhost:8080/"
    },
    "id": "40d9fc3b",
    "outputId": "b3cdc17d-63c5-4944-d4a9-39c39bd7671c"
   },
   "outputs": [
    {
     "name": "stdout",
     "output_type": "stream",
     "text": [
      "48, 4\n"
     ]
    }
   ],
   "source": [
    "nS = env.observation_space.n    # number of states -- 48\n",
    "nA = env.action_space.n         # number of actions -- four directions; 0:left, 1:down, 2:right, 3:up\n",
    "print (\"{}, {}\".format(nS, nA))"
   ]
  },
  {
   "cell_type": "markdown",
   "id": "RAZslvbLx5t5",
   "metadata": {
    "id": "RAZslvbLx5t5"
   },
   "source": [
    "Transition probabilities, rewards and other info are stored a dictionary **env.P**.  You use state index (0-based) to access the info.  The tuple for each transition indicates (transition_probability, new_state, reward, terminated).\n",
    "\n",
    "**IMPORTANT**: If you get an error \"AttributeError: 'OrderEnforcing' object has no attribute 'P'\", add a line to unwrap the environment and access P inside.  For example,\n",
    "\n",
    "<pre># Access the underlying environment using env.unwrapped\n",
    "env_unwrapped = env.unwrapped\n",
    "\n",
    "# Now you can access the transition probabilities\n",
    "env_unwrapped.P[0]</pre>"
   ]
  },
  {
   "cell_type": "code",
   "execution_count": 5,
   "id": "a22296b1",
   "metadata": {
    "colab": {
     "base_uri": "https://localhost:8080/"
    },
    "id": "a22296b1",
    "outputId": "812b6474-8b8f-4429-e6a5-fce184f0f6dc"
   },
   "outputs": [
    {
     "data": {
      "text/plain": [
       "{0: [(0.3333333333333333, 0, -1, False),\n",
       "  (0.3333333333333333, 0, -1, False),\n",
       "  (0.3333333333333333, 1, -1, False)],\n",
       " 1: [(0.3333333333333333, 0, -1, False),\n",
       "  (0.3333333333333333, 1, -1, False),\n",
       "  (0.3333333333333333, 12, -1, False)],\n",
       " 2: [(0.3333333333333333, 1, -1, False),\n",
       "  (0.3333333333333333, 12, -1, False),\n",
       "  (0.3333333333333333, 0, -1, False)],\n",
       " 3: [(0.3333333333333333, 12, -1, False),\n",
       "  (0.3333333333333333, 0, -1, False),\n",
       "  (0.3333333333333333, 0, -1, False)]}"
      ]
     },
     "execution_count": 5,
     "metadata": {},
     "output_type": "execute_result"
    }
   ],
   "source": [
    "# Probatilies from State 0 (top-left corner).\n",
    "#env.P[0]\n",
    "\n",
    "# Access the underlying environment using env.unwrapped\n",
    "env_unwrapped = env.unwrapped\n",
    "\n",
    "# Now you can access the transition probabilities\n",
    "env_unwrapped.P[0]"
   ]
  },
  {
   "cell_type": "code",
   "execution_count": 6,
   "id": "58ac62fa",
   "metadata": {
    "colab": {
     "base_uri": "https://localhost:8080/"
    },
    "id": "58ac62fa",
    "outputId": "9f0a1781-fc38-48e8-f63b-ceffedfefd00"
   },
   "outputs": [
    {
     "data": {
      "text/plain": [
       "{0: [(0.3333333333333333, 36, -1, False),\n",
       "  (0.3333333333333333, 24, -1, False),\n",
       "  (0.3333333333333333, 36, -100, False)],\n",
       " 1: [(0.3333333333333333, 24, -1, False),\n",
       "  (0.3333333333333333, 36, -100, False),\n",
       "  (0.3333333333333333, 36, -1, False)],\n",
       " 2: [(0.3333333333333333, 36, -100, False),\n",
       "  (0.3333333333333333, 36, -1, False),\n",
       "  (0.3333333333333333, 36, -1, False)],\n",
       " 3: [(0.3333333333333333, 36, -1, False),\n",
       "  (0.3333333333333333, 36, -1, False),\n",
       "  (0.3333333333333333, 24, -1, False)]}"
      ]
     },
     "execution_count": 6,
     "metadata": {},
     "output_type": "execute_result"
    }
   ],
   "source": [
    "# Probatilies from the start state (36)\n",
    "env_unwrapped.P[36]"
   ]
  },
  {
   "cell_type": "code",
   "execution_count": 7,
   "id": "7g4qKjzcSWn0",
   "metadata": {
    "colab": {
     "base_uri": "https://localhost:8080/"
    },
    "id": "7g4qKjzcSWn0",
    "outputId": "4f37ca23-de1f-457c-f048-1778d4075e12"
   },
   "outputs": [
    {
     "data": {
      "text/plain": [
       "[(0.3333333333333333, 36, -1, False),\n",
       " (0.3333333333333333, 36, -1, False),\n",
       " (0.3333333333333333, 24, -1, False)]"
      ]
     },
     "execution_count": 7,
     "metadata": {},
     "output_type": "execute_result"
    }
   ],
   "source": [
    "# Transition probability for trying to go left (action 3) from the start state (36)\n",
    "env_unwrapped.P[36][3]"
   ]
  },
  {
   "cell_type": "markdown",
   "id": "f1d84c72",
   "metadata": {
    "id": "f1d84c72"
   },
   "source": [
    "## 3. Create a random/fixed policy and run the policy once.\n"
   ]
  },
  {
   "cell_type": "code",
   "execution_count": 8,
   "id": "i1A6adBPn7F_",
   "metadata": {
    "id": "i1A6adBPn7F_"
   },
   "outputs": [],
   "source": [
    "def generate_random_policy(num_actions, num_states, seed=None):\n",
    "    \"\"\"\n",
    "    A policy is a 1D array of length # of states, where each element is a\n",
    "    number between 0 (inclusive) and # of actions (exclusive) randomly chosen.\n",
    "    If a specific seed is passed, the same numbers are genereated, while\n",
    "    if the seed is None, the numbers are unpredictable every time.\n",
    "    \"\"\"\n",
    "    rng = np.random.default_rng(seed)\n",
    "    return rng.integers(low=0, high=num_actions, size=num_states)"
   ]
  },
  {
   "cell_type": "code",
   "execution_count": 9,
   "id": "LWXY4PoCvArD",
   "metadata": {
    "id": "LWXY4PoCvArD"
   },
   "outputs": [],
   "source": [
    "def run(env, pi, printinfo = False):\n",
    "    \"\"\"\n",
    "    Run the policy on the environment and returns the cumulative reward.\n",
    "    :param: env: The environment\n",
    "    :param: pi: A given policy, represented as a 1D array of length # of states.\n",
    "    :return: steps: number of steps taken\n",
    "    :return: near_falls: number of near falls\n",
    "    :return: sum_r: Cumulative reward\n",
    "    \"\"\"\n",
    "    s = env.reset()\n",
    "    if printinfo == True:\n",
    "      print (f'\\n* Episode starting from state {s[0]}') # ensure starting from state 36\n",
    "\n",
    "    s = s[0]      # extract the state value/index from the tuple\n",
    "    done = False  # this becomes true when agent reaches the goal state (47)\n",
    "    sum_r = 0     \n",
    "    steps = 0\n",
    "    near_falls = 0\n",
    "    while not done:\n",
    "        a = pi[s]   # action for the state s, according to the policy\n",
    "        s, r, done, info, p = env.step(a)  # take the action\n",
    "        sum_r += r  # accumulate reward\n",
    "        steps += 1  # accumulate steps\n",
    "        if r == -100:\n",
    "           near_falls +=1 # accumulate near_falls\n",
    "        ### uncomment below to see the information for each step\n",
    "        #print (f'next_state={s}, reward={r}, done={done}, info={info}, p={p}')\n",
    "\n",
    "        # prints info in text if render_mode is 'ansi' or no output if 'human',\n",
    "        # or graphical output if 'rgb_array' AND if the code is run from command line.\n",
    "        env.render()\n",
    "    return steps, near_falls, sum_r"
   ]
  },
  {
   "cell_type": "markdown",
   "id": "EWn5en-soDkw",
   "metadata": {
    "id": "EWn5en-soDkw"
   },
   "source": [
    "### Run the given policy just once and observe what's returned (the total return)."
   ]
  },
  {
   "cell_type": "code",
   "execution_count": 10,
   "id": "-8y99awdoDZX",
   "metadata": {
    "colab": {
     "base_uri": "https://localhost:8080/"
    },
    "id": "-8y99awdoDZX",
    "outputId": "f2db0470-541a-4c1e-f497-ab0eb4bd46a1"
   },
   "outputs": [
    {
     "name": "stdout",
     "output_type": "stream",
     "text": [
      "*** Policy ***\n",
      "[[2 3 0 0 1 2 3 1 0 0 1 1]\n",
      " [3 1 2 2 0 2 0 0 2 1 1 2]\n",
      " [0 0 2 3 2 3 1 0 2 2 2 2]\n",
      " [1 0 2 0 1 0 2 1 1 2 0 1]]\n",
      " ==> Total return: (5652, 306, -35946)\n"
     ]
    }
   ],
   "source": [
    "policy = generate_random_policy(nA, nS, 17) # third parameter is the random seed\n",
    "print (\"*** Policy ***\\n{}\".format(policy.reshape((4, 12))))\n",
    "\n",
    "# Do just one run\n",
    "result = run(env, policy)\n",
    "# Print the total rewards/return\n",
    "print (f' ==> Total return: {result}')"
   ]
  },
  {
   "cell_type": "code",
   "execution_count": 11,
   "id": "stMo7qm-ZYdZ",
   "metadata": {
    "id": "stMo7qm-ZYdZ"
   },
   "outputs": [
    {
     "name": "stdout",
     "output_type": "stream",
     "text": [
      "*** Policy ***\n",
      "[[0 0 3 1 2 2 2 0 1 0 1 3]\n",
      " [2 0 2 0 3 3 3 2 3 1 0 2]\n",
      " [1 2 3 1 3 0 1 3 0 2 1 2]\n",
      " [3 3 3 2 3 3 0 0 1 2 3 1]]\n",
      "*** Policy ***\n",
      "[[0 2 1 2 1 0 2 0 0 2 2 3]\n",
      " [1 0 0 0 0 2 3 1 2 1 2 1]\n",
      " [1 0 0 1 0 1 0 1 0 2 1 2]\n",
      " [0 2 0 2 1 0 1 2 1 2 3 3]]\n",
      "*** Policy ***\n",
      "[[2 3 1 0 2 2 0 1 1 2 2 0]\n",
      " [0 0 3 0 3 3 2 1 1 2 3 3]\n",
      " [0 2 0 0 1 1 2 0 2 1 0 1]\n",
      " [1 0 2 3 3 3 3 2 1 2 0 2]]\n"
     ]
    }
   ],
   "source": [
    "#  Generate Policies\n",
    "policy1 = generate_random_policy(nA, nS, 11)\n",
    "print (\"*** Policy ***\\n{}\".format(policy1.reshape((4, 12))))\n",
    "policy2 = generate_random_policy(nA, nS, 23)\n",
    "print (\"*** Policy ***\\n{}\".format(policy2.reshape((4, 12))))\n",
    "policy3 = generate_random_policy(nA, nS, 31)\n",
    "print (\"*** Policy ***\\n{}\".format(policy3.reshape((4, 12))))\n",
    "#  initialize collection structures(just lists for everything)\n",
    "steps_1 = []\n",
    "steps_2 = []\n",
    "steps_3 = []\n",
    "near_falls_1 = []\n",
    "near_falls_2 = []\n",
    "near_falls_3 = []\n",
    "rewards_1 = []\n",
    "rewards_2 = []\n",
    "rewards_3 = []\n",
    "#run each policy 100 times (separated, because my first choices for seeds took too long, so I needed to go through ones that went faster)\n",
    "for trial in range(0,100):\n",
    "    output1 = run(env, policy1)\n",
    "    steps_1.append(output1[0])\n",
    "    near_falls_1.append(output1[1])\n",
    "    rewards_1.append(output1[2])\n",
    "\n"
   ]
  },
  {
   "cell_type": "code",
   "execution_count": 12,
   "id": "ef3abe8b",
   "metadata": {},
   "outputs": [],
   "source": [
    "for trial in range(0,100):\n",
    "    output2 = run(env, policy2)\n",
    "    steps_2.append(output2[0])\n",
    "    near_falls_2.append(output2[1])\n",
    "    rewards_2.append(output2[2])\n"
   ]
  },
  {
   "cell_type": "code",
   "execution_count": 13,
   "id": "a6d6cde4",
   "metadata": {},
   "outputs": [],
   "source": [
    "for trial in range(0,100):\n",
    "    output3 = run(env, policy3)\n",
    "    steps_3.append(output3[0])\n",
    "    near_falls_3.append(output3[1])\n",
    "    rewards_3.append(output3[2])\n"
   ]
  },
  {
   "cell_type": "code",
   "execution_count": 14,
   "id": "13a033f6",
   "metadata": {},
   "outputs": [],
   "source": [
    "#obtain easier to view data from data points\n",
    "steps_1_std = np.std(steps_1)\n",
    "steps_1_mean = np.mean(steps_1)\n",
    "near_falls_1_std = np.std(near_falls_1)\n",
    "near_falls_1_mean = np.mean(near_falls_1)\n",
    "rewards_1_std = np.std(rewards_1)\n",
    "rewards_1_mean = np.mean(rewards_1)\n",
    "steps_2_std = np.std(steps_2)\n",
    "steps_2_mean = np.mean(steps_2)\n",
    "near_falls_2_std = np.std(near_falls_2)\n",
    "near_falls_2_mean = np.mean(near_falls_2)\n",
    "rewards_2_std = np.std(rewards_2)\n",
    "rewards_2_mean = np.mean(rewards_2)\n",
    "steps_3_std = np.std(steps_3)\n",
    "steps_3_mean = np.mean(steps_3)\n",
    "near_falls_3_std = np.std(near_falls_3)\n",
    "near_falls_3_mean = np.mean(near_falls_3)\n",
    "rewards_3_std = np.std(rewards_3)\n",
    "rewards_3_mean = np.mean(rewards_3)"
   ]
  },
  {
   "cell_type": "code",
   "execution_count": 15,
   "id": "ece1ab6c",
   "metadata": {},
   "outputs": [
    {
     "name": "stdout",
     "output_type": "stream",
     "text": [
      "Policy 1 stats with random seed 10\n",
      "Mean steps: 3525.83\n",
      "Stdev steps: 3724.4263532925447\n",
      "Mean near_falls: 117.27\n",
      "Stdev near_falls: 125.40254024540332\n",
      "Mean reward: -15135.56\n",
      "Stdev reward: 16131.879518716969\n",
      "Policy 2 stats with random seed 20\n",
      "Mean steps: 533.79\n",
      "Stdev steps: 382.8546537525697\n",
      "Mean near_falls: 21.13\n",
      "Stdev near_falls: 16.913695634012104\n",
      "Mean reward: -2625.66\n",
      "Stdev reward: 2020.3433481465472\n",
      "Policy 3 stats with random seed 30\n",
      "Mean steps: 2372.11\n",
      "Stdev steps: 2358.4033577613477\n",
      "Mean near_falls: 79.26\n",
      "Stdev near_falls: 79.25927327448821\n",
      "Mean reward: -10218.85\n",
      "Stdev reward: 10169.247278314162\n",
      "Total number of steps of Policy 1: 352583\n",
      "Total number of steps of Policy 2: 53379\n",
      "Total number of steps of Policy 3: 237211\n"
     ]
    }
   ],
   "source": [
    "\n",
    "print(\"Policy 1 stats with random seed 10\")\n",
    "print(\"Mean steps: \" + str(steps_1_mean))\n",
    "print(\"Stdev steps: \" + str(steps_1_std))\n",
    "print(\"Mean near_falls: \" + str(near_falls_1_mean))\n",
    "print(\"Stdev near_falls: \" + str(near_falls_1_std))\n",
    "print(\"Mean reward: \" + str(rewards_1_mean))\n",
    "print(\"Stdev reward: \" + str(rewards_1_std))\n",
    "\n",
    "print(\"Policy 2 stats with random seed 20\")\n",
    "print(\"Mean steps: \" + str(steps_2_mean))\n",
    "print(\"Stdev steps: \" + str(steps_2_std))\n",
    "print(\"Mean near_falls: \" + str(near_falls_2_mean))\n",
    "print(\"Stdev near_falls: \" + str(near_falls_2_std))\n",
    "print(\"Mean reward: \" + str(rewards_2_mean))\n",
    "print(\"Stdev reward: \" + str(rewards_2_std))\n",
    "\n",
    "print(\"Policy 3 stats with random seed 30\")\n",
    "print(\"Mean steps: \" + str(steps_3_mean))\n",
    "print(\"Stdev steps: \" + str(steps_3_std))\n",
    "print(\"Mean near_falls: \" + str(near_falls_3_mean))\n",
    "print(\"Stdev near_falls: \" + str(near_falls_3_std))\n",
    "print(\"Mean reward: \" + str(rewards_3_mean))\n",
    "print(\"Stdev reward: \" + str(rewards_3_std))\n",
    "\n",
    "total_steps_1 = np.sum(steps_1)\n",
    "total_steps_2 = np.sum(steps_2)\n",
    "total_steps_3 = np.sum(steps_3)\n",
    "print(\"Total number of steps of Policy 1: \" + str(total_steps_1))\n",
    "print(\"Total number of steps of Policy 2: \" + str(total_steps_2))\n",
    "print(\"Total number of steps of Policy 3: \" + str(total_steps_3))\n",
    "\n",
    "#begin brining all the values together for plotting\n",
    "counts, bin_edges = np.histogram(steps_2)\n",
    "ratio = np.array(near_falls_2)/np.array(steps_2)\n"
   ]
  },
  {
   "cell_type": "code",
   "execution_count": 16,
   "id": "f0514baf",
   "metadata": {},
   "outputs": [
    {
     "data": {
      "text/plain": [
       "([<matplotlib.axis.XTick at 0x289d473d2a0>,\n",
       "  <matplotlib.axis.XTick at 0x289d473c8e0>,\n",
       "  <matplotlib.axis.XTick at 0x289d476a9e0>,\n",
       "  <matplotlib.axis.XTick at 0x289d476b6d0>,\n",
       "  <matplotlib.axis.XTick at 0x289d476be20>],\n",
       " [Text(0, 0, '0.0'),\n",
       "  Text(2, 0, '431.2'),\n",
       "  Text(4, 0, '812.4'),\n",
       "  Text(6, 0, '1193.6'),\n",
       "  Text(8, 0, '1574.8')])"
      ]
     },
     "execution_count": 16,
     "metadata": {},
     "output_type": "execute_result"
    },
    {
     "data": {
      "image/png": "[encoded data removed]",
      "text/plain": [
       "<Figure size 640x480 with 1 Axes>"
      ]
     },
     "metadata": {},
     "output_type": "display_data"
    }
   ],
   "source": [
    "import matplotlib.pyplot as plt\n",
    "# bar plot of steps\n",
    "plt.bar(range(len(counts)), counts, align= 'edge', color='orange')\n",
    "plt.title(\"Steps of Random Policy 2 with seed 23\")\n",
    "bin_edges.put(0,0)\n",
    "plt.xticks(ticks=range(0, len(counts)-1, 2),labels= bin_edges[:-1:2] )"
   ]
  },
  {
   "cell_type": "code",
   "execution_count": 17,
   "id": "de247225",
   "metadata": {},
   "outputs": [
    {
     "data": {
      "text/plain": [
       "([<matplotlib.axis.XTick at 0x289d482ee30>,\n",
       "  <matplotlib.axis.XTick at 0x289d473d480>,\n",
       "  <matplotlib.axis.XTick at 0x289d48884f0>,\n",
       "  <matplotlib.axis.XTick at 0x289d48891e0>],\n",
       " [Text(0, 0, '0.0'),\n",
       "  Text(3, 0, '0.0305'),\n",
       "  Text(6, 0, '0.061'),\n",
       "  Text(9, 0, '0.0915')])"
      ]
     },
     "execution_count": 17,
     "metadata": {},
     "output_type": "execute_result"
    },
    {
     "data": {
      "image/png": "[encoded data removed]",
      "text/plain": [
       "<Figure size 640x480 with 1 Axes>"
      ]
     },
     "metadata": {},
     "output_type": "display_data"
    }
   ],
   "source": [
    "#bar plot of near falls to total steps\n",
    "ratio_counts, ratio_edges = np.histogram(ratio)\n",
    "plt.bar(range(len(ratio_counts)), ratio_counts, align= 'edge', color='blue')\n",
    "plt.title(\"Ratio of Near falls to total steps of Policy 2 with random seed 23\")\n",
    "plt.xticks(ticks= range(0, len(ratio_edges),3),labels=np.round(ratio_edges[::3], 4))"
   ]
  },
  {
   "cell_type": "code",
   "execution_count": 18,
   "id": "944e1d1c",
   "metadata": {},
   "outputs": [
    {
     "data": {
      "text/plain": [
       "([<matplotlib.axis.XTick at 0x289d4a19360>,\n",
       "  <matplotlib.axis.XTick at 0x289d4a189d0>,\n",
       "  <matplotlib.axis.XTick at 0x289d4a3e6b0>,\n",
       "  <matplotlib.axis.XTick at 0x289d4a3f3a0>],\n",
       " [Text(0, 0, '-7698.0'),\n",
       "  Text(3, 0, '-5411.1'),\n",
       "  Text(6, 0, '-3124.2'),\n",
       "  Text(9, 0, '-837.3')])"
      ]
     },
     "execution_count": 18,
     "metadata": {},
     "output_type": "execute_result"
    },
    {
     "data": {
      "image/png": "[encoded data removed]",
      "text/plain": [
       "<Figure size 640x480 with 1 Axes>"
      ]
     },
     "metadata": {},
     "output_type": "display_data"
    }
   ],
   "source": [
    "#bar plot of reward counts\n",
    "reward_counts, reward_edges = np.histogram(rewards_2)\n",
    "plt.bar(range(len(reward_counts)), reward_counts, align= 'edge', color='green')\n",
    "plt.title(\"Reward counts of Policy 2 with random seed 23\")\n",
    "plt.xticks(ticks= range(0, len(reward_edges),3),labels=np.round(reward_edges[::3], 4))"
   ]
  },
  {
   "cell_type": "markdown",
   "id": "4ca25adf",
   "metadata": {},
   "source": [
    "PART 2 POLICY ITERATION"
   ]
  },
  {
   "cell_type": "code",
   "execution_count": 19,
   "id": "c655edb9",
   "metadata": {},
   "outputs": [],
   "source": [
    "#initialize starting variables for Optimal policy generation by policy iteration\n",
    "\n",
    "init_pi_s = generate_random_policy(num_actions=nA,num_states=nS)\n",
    "gamma = 0.8\n",
    "theta  = 1e-6\n"
   ]
  },
  {
   "cell_type": "code",
   "execution_count": 20,
   "id": "ee964f9e",
   "metadata": {},
   "outputs": [],
   "source": [
    "# policy evaluation\n",
    "def pi_eval(pi, env, gamma, theta, nS):\n",
    "    \"\"\"\n",
    "    Evaluate the policy and determine the value of each action in the deterministic policy\n",
    "    :param: pi: A given policy, represented as a 1D array of length # of states.\n",
    "    :param: env: The environment\n",
    "    :param: gamma: the discount rate\n",
    "    :param: theta: near zero value that will determine exit of evaluation\n",
    "    :return: Val_state: the evaluation of each state's policy\n",
    "    \"\"\"\n",
    "    Val_state = np.full((nS), 1e-6) \n",
    "    Val_new_state = np.full((nS), 1e-6)\n",
    "    Val_state[nS-1] = 0\n",
    "    Val_new_state[nS-1]=0\n",
    "    while True:\n",
    "        delta = 0\n",
    "        for state in range(nS-1):\n",
    "            v = Val_state[state]\n",
    "            Val_new_state[state] = 1e-6 #setting Val_new_state is necessary or the value will negatively grow to -inf very quickly # 1e-6 is used in case there are any ties\n",
    "            for prob, next_state, reward, terminated in  env.P[state][pi[state]]: #grab all the possible actions from the policy's desired actions\n",
    "                Val_new_state[state] += prob * (reward +gamma *Val_state[next_state]) \n",
    "            delta = max(delta, abs(v- Val_new_state[state]) )\n",
    "            Val_state[state] = Val_new_state[state]\n",
    "        if delta < theta :\n",
    "            break\n",
    "    return Val_state"
   ]
  },
  {
   "cell_type": "code",
   "execution_count": 21,
   "id": "ad6606d8",
   "metadata": {},
   "outputs": [],
   "source": [
    "def pi_improve(val_state, env, gamma, nS):\n",
    "    \"\"\"\n",
    "    Produce improved policy given the evaluation of the previous state\n",
    "    :param: val_state: the given evaluation of each state in the previous policy\n",
    "    :param: env: The environment\n",
    "    :param: gamma: the discount rate\n",
    "    :param: nS: number of states\n",
    "    :return: new_pi: resulting new policy\n",
    "    \"\"\"\n",
    "    new_pi = np.zeros(nS,dtype=int)\n",
    "    for state in range(nS-1): #only nS-1 because we do not need to do the end states actions as it is unnecessary and may lead to issues\n",
    "        Anum = len(env.P[state])\n",
    "        actions = np.zeros(Anum) #produce an array of values of the possible actions\n",
    "        for a in range(Anum):\n",
    "            for prob, next_state, reward, terminated in  env.P[state][a]:\n",
    "                actions[a] = prob *  (reward + gamma * val_state[next_state]) # calculate the max of each action\n",
    "        new_pi[state] = np.argmax(actions) # take the argmax action and commit to it\n",
    "    return new_pi"
   ]
  },
  {
   "cell_type": "code",
   "execution_count": 22,
   "id": "89073d72",
   "metadata": {},
   "outputs": [],
   "source": [
    "def pi_iter(pi, gamma, theta, env, nS):\n",
    "    \"\"\"\n",
    "    Policy iteration, by calling policy evaluation and then policy improvment\n",
    "    :param: pi: Initial given policy, represented as a 1D array of length # of states.\n",
    "    :param: gamma: the discount rate\n",
    "    :param: theta: near zero value that will determine exit of evaluation\n",
    "    :param: env: The environment\n",
    "    :param: nS: number of states\n",
    "    :return: pi: resulting new policy\n",
    "    \"\"\"\n",
    "    # I know I did the stable part a little backwards, but doing it this way made more sense to me\n",
    "    stable = False\n",
    "    while not stable:\n",
    "        val_state = pi_eval(pi, env_unwrapped, gamma,  theta, nS)\n",
    "        new_pi = pi_improve(val_state, env, gamma, nS)\n",
    "        if (pi == new_pi).all():\n",
    "            stable = True\n",
    "        else:\n",
    "            pi = new_pi\n",
    "    return pi"
   ]
  },
  {
   "cell_type": "code",
   "execution_count": 23,
   "id": "a071648c",
   "metadata": {},
   "outputs": [
    {
     "name": "stdout",
     "output_type": "stream",
     "text": [
      "*** Policy ***\n",
      "[[0 0 0 0 0 0 0 0 0 0 0 1]\n",
      " [3 3 3 3 3 3 3 3 0 0 0 1]\n",
      " [3 2 3 0 0 0 0 0 0 0 0 1]\n",
      " [3 2 3 3 3 3 3 3 3 3 0 0]]\n"
     ]
    }
   ],
   "source": [
    "pi = pi_iter(init_pi_s, gamma, theta, env_unwrapped, nS)\n",
    "print (\"*** Policy ***\\n{}\".format(pi.reshape((4, 12))))\n",
    "#interesting result that all the cliff-side actions are go left, Also \n"
   ]
  },
  {
   "cell_type": "code",
   "execution_count": 24,
   "id": "8a1a3167",
   "metadata": {},
   "outputs": [
    {
     "name": "stdout",
     "output_type": "stream",
     "text": [
      "0\n",
      "1\n",
      "2\n",
      "3\n",
      "4\n",
      "5\n",
      "6\n",
      "7\n",
      "8\n",
      "9\n",
      "10\n",
      "11\n",
      "12\n",
      "13\n",
      "14\n",
      "15\n",
      "16\n",
      "17\n",
      "18\n",
      "19\n",
      "20\n",
      "21\n",
      "22\n",
      "23\n",
      "24\n",
      "25\n",
      "26\n",
      "27\n",
      "28\n",
      "29\n",
      "30\n",
      "31\n",
      "32\n",
      "33\n",
      "34\n",
      "35\n",
      "36\n",
      "37\n",
      "38\n",
      "39\n",
      "40\n",
      "41\n",
      "42\n",
      "43\n",
      "44\n",
      "45\n",
      "46\n",
      "47\n",
      "48\n",
      "49\n",
      "50\n",
      "51\n",
      "52\n",
      "53\n",
      "54\n",
      "55\n",
      "56\n",
      "57\n",
      "58\n",
      "59\n",
      "60\n",
      "61\n",
      "62\n",
      "63\n",
      "64\n",
      "65\n",
      "66\n",
      "67\n",
      "68\n",
      "69\n",
      "70\n",
      "71\n",
      "72\n",
      "73\n",
      "74\n",
      "75\n",
      "76\n",
      "77\n",
      "78\n",
      "79\n",
      "80\n",
      "81\n",
      "82\n",
      "83\n",
      "84\n",
      "85\n",
      "86\n",
      "87\n",
      "88\n",
      "89\n",
      "90\n",
      "91\n",
      "92\n",
      "93\n",
      "94\n",
      "95\n",
      "96\n",
      "97\n",
      "98\n",
      "99\n",
      "Optimal  Policy\n",
      "Mean steps: 217.13\n",
      "Stdev steps: 155.52894618044576\n",
      "Mean near_falls: 0.0\n",
      "Stdev near_falls: 0.0\n",
      "Mean reward: -217.13\n",
      "Stdev reward: 155.52894618044576\n"
     ]
    }
   ],
   "source": [
    "steps_pi = []\n",
    "near_falls_pi = []\n",
    "rewards_pi = []\n",
    "for trial in range(0,100):\n",
    "    print(trial)\n",
    "    outputpi= run(env, pi)\n",
    "    steps_pi.append(outputpi[0])\n",
    "    near_falls_pi.append(outputpi[1])\n",
    "    rewards_pi.append(outputpi[2])\n",
    "\n",
    "steps_pi_std = np.std(steps_pi)\n",
    "steps_pi_mean = np.mean(steps_pi)\n",
    "near_falls_pi_std = np.std(near_falls_pi)\n",
    "near_falls_pi_mean = np.mean(near_falls_pi)\n",
    "rewards_pi_std = np.std(rewards_pi)\n",
    "rewards_pi_mean = np.mean(rewards_pi)\n",
    "print(\"Optimal  Policy\")\n",
    "print(\"Mean steps: \" + str(steps_pi_mean))\n",
    "print(\"Stdev steps: \" + str(steps_pi_std))\n",
    "print(\"Mean near_falls: \" + str(near_falls_pi_mean))\n",
    "print(\"Stdev near_falls: \" + str(near_falls_pi_std))\n",
    "print(\"Mean reward: \" + str(rewards_pi_mean))\n",
    "print(\"Stdev reward: \" + str(rewards_pi_std))"
   ]
  },
  {
   "cell_type": "code",
   "execution_count": 25,
   "id": "bdddaf1e",
   "metadata": {},
   "outputs": [
    {
     "data": {
      "text/plain": [
       "([<matplotlib.axis.XTick at 0x289d4a84d00>,\n",
       "  <matplotlib.axis.XTick at 0x289d4a85ea0>,\n",
       "  <matplotlib.axis.XTick at 0x289d4ad81f0>,\n",
       "  <matplotlib.axis.XTick at 0x289d4ad8ee0>,\n",
       "  <matplotlib.axis.XTick at 0x289d4aafd00>],\n",
       " [Text(0, 0, '0.0'),\n",
       "  Text(2, 0, '295.2'),\n",
       "  Text(4, 0, '558.4'),\n",
       "  Text(6, 0, '821.6'),\n",
       "  Text(8, 0, '1084.8')])"
      ]
     },
     "execution_count": 25,
     "metadata": {},
     "output_type": "execute_result"
    },
    {
     "data": {
      "image/png": "[encoded data removed]",
      "text/plain": [
       "<Figure size 640x480 with 1 Axes>"
      ]
     },
     "metadata": {},
     "output_type": "display_data"
    }
   ],
   "source": [
    "counts_pi, bin_edges_pi = np.histogram(steps_pi)\n",
    "ratio_pi = np.array(near_falls_pi)/np.array(steps_pi)\n",
    "plt.bar(range(len(counts_pi)), counts_pi, align= 'edge', color='orange')\n",
    "plt.title(\"Steps of Optimal Policy\")\n",
    "bin_edges_pi.put(0,0)\n",
    "plt.xticks(ticks=range(0, len(counts_pi)-1, 2),labels= np.round(bin_edges_pi[:-1:2] , 4))"
   ]
  },
  {
   "cell_type": "code",
   "execution_count": 26,
   "id": "a5d2c8da",
   "metadata": {},
   "outputs": [
    {
     "data": {
      "text/plain": [
       "([<matplotlib.axis.XTick at 0x289d659ff70>,\n",
       "  <matplotlib.axis.XTick at 0x289d659f610>,\n",
       "  <matplotlib.axis.XTick at 0x289d65e95a0>,\n",
       "  <matplotlib.axis.XTick at 0x289d65e9bd0>],\n",
       " [Text(0, 0, '-0.5'),\n",
       "  Text(3, 0, '-0.2'),\n",
       "  Text(6, 0, '0.1'),\n",
       "  Text(9, 0, '0.4')])"
      ]
     },
     "execution_count": 26,
     "metadata": {},
     "output_type": "execute_result"
    },
    {
     "data": {
      "image/png": "[encoded data removed]",
      "text/plain": [
       "<Figure size 640x480 with 1 Axes>"
      ]
     },
     "metadata": {},
     "output_type": "display_data"
    }
   ],
   "source": [
    "ratio_counts_pi, ratio_edges_pi = np.histogram(ratio_pi)\n",
    "plt.bar(range(len(ratio_counts_pi)), ratio_counts_pi, align= 'edge', color='blue')\n",
    "plt.title(\"Ratio of Near falls to total steps\")\n",
    "plt.xticks(ticks= range(0, len(ratio_edges_pi),3),labels=np.round(ratio_edges_pi[::3], 4))"
   ]
  },
  {
   "cell_type": "code",
   "execution_count": 27,
   "id": "694d042c",
   "metadata": {},
   "outputs": [
    {
     "data": {
      "text/plain": [
       "([<matplotlib.axis.XTick at 0x289d662a290>,\n",
       "  <matplotlib.axis.XTick at 0x289d6629900>,\n",
       "  <matplotlib.axis.XTick at 0x289d66437f0>,\n",
       "  <matplotlib.axis.XTick at 0x289d6670520>],\n",
       " [Text(0, 0, '-1348.0'),\n",
       "  Text(3, 0, '-953.2'),\n",
       "  Text(6, 0, '-558.4'),\n",
       "  Text(9, 0, '-163.6')])"
      ]
     },
     "execution_count": 27,
     "metadata": {},
     "output_type": "execute_result"
    },
    {
     "data": {
      "image/png": "[encoded data removed]",
      "text/plain": [
       "<Figure size 640x480 with 1 Axes>"
      ]
     },
     "metadata": {},
     "output_type": "display_data"
    }
   ],
   "source": [
    "reward_counts_pi, reward_edges_pi = np.histogram(rewards_pi)\n",
    "plt.bar(range(len(reward_counts_pi)), reward_counts_pi, align= 'edge', color='green')\n",
    "plt.title(\"Reward counts\")\n",
    "plt.xticks(ticks= range(0, len(reward_edges_pi),3),labels=np.round(reward_edges_pi[::3], 4))"
   ]
  }
 ],
 "metadata": {
  "colab": {
   "provenance": []
  },
  "kernelspec": {
   "display_name": "CSC580",
   "language": "python",
   "name": "python3"
  },
  "language_info": {
   "codemirror_mode": {
    "name": "ipython",
    "version": 3
   },
   "file_extension": ".py",
   "mimetype": "text/x-python",
   "name": "python",
   "nbconvert_exporter": "python",
   "pygments_lexer": "ipython3",
   "version": "3.10.16"
  }
 },
 "nbformat": 4,
 "nbformat_minor": 5
}
